{
 "cells": [
  {
   "cell_type": "markdown",
   "metadata": {},
   "source": [
    "# Final Project Submission\n",
    "\n",
    "* Student name: **Dennis Trimarchi**\n",
    "* Student pace: **full time**\n",
    "* Scheduled project review date/time: **Not yet scheduled**\n",
    "* Instructor name: **Rafael Cassaro**\n",
    "* Blog post URL: **Not yet created**\n"
   ]
  },
  {
   "cell_type": "markdown",
   "metadata": {},
   "source": [
    "# Motivation\n",
    "I was motivated to do this project because I have a keen interest in the home values of King's County Washington!!... Oh wait, that's a complete lie. I am doing this project because I am required to review data related to King's County housing, scrub the data, do some analysis, and develop a regression model. With that said, there is a great deal of data available and I am interested in going through a full analysis without being \"walked through\" the process. I believe that doing this project will give me an idea of my strengths and weaknesses as this stage of my learning as well as give me practice applying data science concepts in Python."
   ]
  },
  {
   "cell_type": "markdown",
   "metadata": {},
   "source": [
    "# Outline\n",
    "\n",
    "I have broken this notebook out into sections. All of my Python work is completed in other notebooks. In all, I have three notebooks. The contents of these notebooks are summarized below:\n",
    "\n",
    "1. [student_1_Data_cleaning.ipynb](student_1_Data_cleaning.ipynb): Read in King's County housing data. Scrub the data. Handle null values, placeholders and outliers.\n",
    "2. [student_2_EDA_Questions.ipynb](student_2_EDA_Questions.ipynb): Start to look at contents of each feature. Formulate three questions, investigate them, and provide an answer/conclusion to those questions.\n",
    "3. [student_3_Model.ipynb](student_3_Model.ipynb): Create a model. Iteratively improve the model. Provide and final model and perform model validation.\n",
    "\n",
    "This readme contains sections that summarize the work from the notebooks above as well as provide Recommendations / Conclusions and links to additional project deliverables."
   ]
  },
  {
   "cell_type": "markdown",
   "metadata": {},
   "source": [
    "# Import Data and Scrub\n",
    "\n",
    "See details in [student_1_Data_cleaning.ipynb](student_1_Data_cleaning.ipynb) if desired. A summary of the actions taken for each feature is provided at the top of the notebook.\n",
    "\n",
    "In total I removed **634** out of **21597** rows of data during Data Cleaning. I also did a little EDA with the creation of `zip_981` feature.\n",
    "\n",
    "My process was to first look at the datatype and convert it if needed. Second, to look for Null values. Third, to look for outliers by running feature histograms and scatterplots against the target. However, in trying to convert some feature datatypes, the null values became apparent on their own. Below is a summary of the data cleaning actions for each feature:"
   ]
  },
  {
   "cell_type": "markdown",
   "metadata": {},
   "source": [
    "# EDA & Questions\n",
    "\n",
    "See details in [student_2_EDA_Questions.ipynb](student_2_EDA_Questions.ipynb).\n",
    "\n",
    "When I initially looked at the data during the Data Scrubbing phase, I thought about the following questions:\n",
    "\n",
    "1. *Are waterfront properties significantly more expensive than non-waterfront?*\n",
    "2. *Are newer homes more expensive (yr_built)?*\n",
    "3. *Is there a particular location or locations where I can categorize homes as more expensive?*\n",
    "\n",
    "\n",
    "\n",
    "## Question 1 - waterfront view properties\n",
    "\n",
    "*Are waterfront properties significantly more expensive than non-waterfront?*\n",
    "\n",
    "Unfortunately, when I thought of this question, I did not realize that the DataFrame would contain so few records (only 98) for waterfront property. I did an analysis for the sake of the question anyway.\n",
    "\n",
    "- Correlation Coefficient **0.015** - Weak positive correlation with price.\n",
    "- Regression p-value **0.00** - Indicates that the feature is statistically significant (non-zero coefficient).\n",
    "- Regression model coefficient **6.05e05** - Indicates that having a view of the waterfront results in an increase of about $600K for the price.\n",
    "- R-Squared **0.021** - Indicates that the feature only accounts for 2% of the variation in price for the dataset.\n",
    "\n",
    "\n",
    "I initially thought that the regression coefficient was ridiculous, but the data does seem to support it. For example: \n",
    "- Homes with waterfront: median price = 1,150,000\n",
    "- Homes without waterfront: median price = 445,000\n",
    "\n",
    "The difference in median value is over 700K. So, the regression coefficient isn't that surprising considering the median values of our dataset.\n",
    "\n",
    "The very low R-Squared makes perfect sense because home prices are based on many other factors and waterfront view is weakly correlated with price. \n",
    "\n",
    "#### Answer\n",
    "Yes. There is a positive correlation and the p-value is less than 0.05. It seems obvious that being a waterfront property would increase value. However, with such a small dataset representing waterfront view, I would want to gather more data (or fill in the missing data) before trusting this result. Additionally, the Seattle area has a lot of waterfront, and it's possible that the abundance and quality of the waterfront would dilute any impact this feature has. "
   ]
  },
  {
   "cell_type": "markdown",
   "metadata": {},
   "source": [
    "## Question 2 - newer homes\n",
    "\n",
    "*Are newer homes more expensive?*\n",
    "\n",
    "The scatterplot of yr_built vs price didn't appear to have any kind of relationship at first. With a coefficient of 0.053, there is almost no correlation between yr_built and price. However, on the scatterplot for yr_built vs price, there appeared to be a slight positive relationship in more recent years. I created a feature called `built_last_20_years` as a categorical feature which represents homes built in the last 20 years of the dataset (after 1995).\n",
    "\n",
    "- Correlation Coefficient **0.13** - Indicates a weak positive relationship with price. Better than yr_built.\n",
    "- Regression p-value **0.00** - Indicates that the feature is statistically significant (non-zero coefficient).\n",
    "- Regression model coefficient **8.31e4** - Indicates that a home built in the last 20 years will result in a price increase of $83K.\n",
    "- R-Squared **0.016** - Indicates that the feature only accounts for 1.6% of the variation in price of the dataset.\n",
    "\n",
    "The regression coefficient supports the data below where the difference in median price is about 70K:\n",
    "- Not built in last 20 years: median price = 430000.0\n",
    "- Built in last 20 years: median price = 497475.0\n",
    "\n",
    "#### Answer\n",
    "\n",
    "Yes. If you define \"newer homes\" as homes built in the last 20 years, then there is a positive correlation with price and it is significant with a p-value < 0.05."
   ]
  },
  {
   "cell_type": "markdown",
   "metadata": {},
   "source": [
    "## Question 3 - Where are expensive homes located?\n",
    "\n",
    "*Is there a particular location or locations where I can categorize homes as more expensive?*\n",
    "\n",
    "I created a scatterplot of latitude vs. longitude with the hue representing price. This creates a nifty looking map of the area with darker color representing higher price. It looks like areas immediately east of downtown Seattle - on the east side of lake washington have a higer prices. Also areas to the north look to be more expensive in general.\n",
    "\n",
    "1. Calculate distance between two geographical points\n",
    "   - I defined a function to provide the distance in miles between two sets of lat/long coordinates. \n",
    "   - For a given location, I could now calculate the distance from that location to all homes in the dataset. \n",
    "2. Search for a location where distances from that location is hightly correlated with price\n",
    "   - Iterated through lat and long points in the region of the dataset. \n",
    "   - Calculated distances to that point for every home.\n",
    "   - Calculated correlation of those distances with price.\n",
    "3. Look at map of the location returned\n",
    "   - The function returned a point just northeast of Bellvue, WA. This is an area with many expensive homes, so the result is not a surprise. \n",
    "   - The correlation coefficient with price that the function returned was -0.49 which is better than lat or long individually.\n",
    "   - The negative correlation makes sense because as distance from Bellvue increases, price decreases.\n",
    "4. Create a new feature called dist_from_Bellvue\n",
    "   - Created a new feature with the distance from Bellvue in miles for each home. \n",
    "\n",
    "For the new feature:\n",
    "\n",
    "- Correlation Coefficient **-0.49** - Moderate negative correlation with price.\n",
    "- Regression p-value **0.00** - Indicates that the feature is statistically significant (non-zero coefficient).\n",
    "- Regression model coefficient **-2.26e04** - Indicates that for every mile away from Bellvue, a home's price decreases by about $22K.\n",
    "- R-Squared **0.237** - Indicates that the feature accounts for 23.7% of the variation in price for the dataset. This is pretty great.\n",
    "\n",
    "#### Answer\n",
    "\n",
    "Yes. There is a point (47.638, -122.17) just northeast of Bellvue, WA that is correlated with higher prices. The map of the area shows many expensive homes near there. One thing to consider is that if there were other clear areas with clusters of expensive homes, I would want to create new features to handle those locations as well."
   ]
  },
  {
   "cell_type": "markdown",
   "metadata": {},
   "source": [
    "## EDA Summary \n",
    "\n",
    "There are some high feature correlations with price... But unfortunately, the dataset is overloaded with independent variables that aren't actually independent! They have high correlations with eachother. Nevertheless I decided to keep these features for now and deal with them in the modeling section. I also decided to **drop all features with <0.10 correlation with price**.\n",
    "\n",
    "- Dropped Features\n",
    "   - condition\n",
    "   - yr_built\n",
    "   - yr_renovated\n",
    "   - zipcode\n",
    "   - long\n",
    "   - zip_981\n",
    "\n",
    "\n",
    "- Top 5 features correlated with price\n",
    "   - grade\n",
    "   - sqft_living\n",
    "   - sqft_living15\n",
    "   - sqft_above\n",
    "   - log_dist_from_Bellvue\n",
    " "
   ]
  },
  {
   "cell_type": "markdown",
   "metadata": {},
   "source": [
    "# Model\n",
    "\n",
    "The notebook containing this work is [student_3_Model.ipynb](student_3_Model.ipynb). \n",
    "\n",
    "\n",
    "## Collinearity\n",
    "\n",
    "Because collinearity was a major part of this particular set of features, I decided to put the features together into groups that were highly correlated with eachother. I would only be able to pick one feature from each group during Iterative Modeling. See the groups below:\n",
    "\n",
    "**collinear groups of features:**\n",
    "\n",
    "- **Group 1**\n",
    "  - sqft_living\n",
    "  - ~~sqft_living15~~ Dropped. Highly correlated with sqft_living. Does not add much.\n",
    "  - ~~sqft_above~~ Dropped. It is basically the same thing as sqft_living\n",
    "  - bedrooms\n",
    "  - bathrooms\n",
    "  - grade\n",
    "\n",
    "- **Group 2**\n",
    "  - sqft_lot\n",
    "  - ~~sqft_lot15~~ Dropped. Doesn't add much. Slightly lower correlation with price.\n",
    "  \n",
    "- **Group 3**\n",
    "  - lat\n",
    "  - dist_from_Bellvue\n",
    "  - log_dist_from_Bellvue\n",
    "  \n",
    "## Train / Test Split\n",
    "\n",
    "I performed a train/test split using Scikit Learn's train_test_split function with an 80/20 split. I used the training set to build my model.\n",
    "\n",
    "## Feature Selection\n",
    "\n",
    "I used scikit learn's recursive feature elimination to provide a list of ranked features. But in the end, I decided to iteratively add / remove features and run a regression using OLS in Statsmodels.\n",
    "\n",
    "### Rundown of model iterations\n",
    "\n",
    "I ran the regression multiple times with different features added and removed. I've included the iterations summary below in the case of interest.\n",
    "\n",
    "1. All features: When every feature was included, adj R^2 = 0.688 but there were a bunch of collinear features.\n",
    "2. Removed all lowest ranked collinear features from the recursive feature elimination: *bathrooms, bedrooms, sqft_living, dist_from_Bellvue, lat*: adj R^2 = 0.622. All p-values are less than 0.05.\n",
    "3. Removed *waterfront*: adj R^2 = 0.606. Even though I think this is an important feature, the data size is so small that I want to take it out of the model for now.\n",
    "4. Swapped out *grade* with *sqft_living*: I feel that sqft_living is more generic since grade depends on the county rating system. p-value for *sqft_lot* went up to 0.602 and adj R^2 = 0.620.\n",
    "5. Removed *sqft_lot* because of p-value: adj R^2 is still 0.620.\n",
    "6. Removed *has_basement*: adj R^2 only changed to 0.619\n",
    "7. Removed *built_last_20_yrs*: adj R^2 only changed to 0.617\n",
    "8. Added back in *built_last_20_yrs* and removed *floors*: adj R^2 = 0.614\n",
    "9. Removed *built_last_20_yrs* again: adj R^2 = 0.614 no change.\n",
    "10. Swapped *log_dist_from_Bellvue* for *dist_from_Bellvue*: I like that the latter is not transformed. adj R^2 = 0.614. No change.\n",
    "11. Added back in *waterfront*: adj R^2 = 0.631. Even better than the first non-collinear model.\n",
    "12. Removed *waterfront*: adj R^2 = 0.614 again. Alas, I still wasn't comfortable including it.\n",
    "13. Swapped back *log_dist_from_Bellvue* in place of *dist_from_Bellvue*: I do not like that dist_from_Bellvue has a greater negative impact for distances far away from Bellvue than the log version: adj R^2 = 0.614. No change there.\n",
    "\n",
    "## Final Model\n",
    "\n",
    "Price is a function of sqft_living and dist_from_Bellvue. Collinearity in this model is very small as the correlation between sqft_living and log_dist_from_Bellvue is -0.17.\n",
    "                \n",
    "$$price = 202.80*sqft\\_living - 196,800*\\ln(dist\\_from\\_Bellvue) + 550,300$$\n",
    "\n",
    "* P-values in the model for both independent variables are < 0.05.\n",
    "* P(F-statistic) of the model is < 0.05.\n"
   ]
  },
  {
   "cell_type": "markdown",
   "metadata": {},
   "source": [
    "OLS Model:\n",
    "\n",
    "\n",
    "<img src=\"OLS_Model.png\" style=\"width: 500px;\"/>"
   ]
  },
  {
   "cell_type": "markdown",
   "metadata": {},
   "source": [
    "## Model Validation"
   ]
  },
  {
   "cell_type": "markdown",
   "metadata": {},
   "source": [
    "### MSE/RMSE for Train and Test sets\n",
    "\n",
    "I decided to use scikit learn's LinearRegression function to get my residuals. Luckly, when I ran the regression with scikit learn, my coefficients were identical. Phew...\n",
    "\n",
    "|   -   | Mean Squared Error | Root Mean Squared Error |\n",
    "|:-----:|:------------------:|:-----------------------:|\n",
    "| Train |      3.048e+10     |          174589         |\n",
    "|  Test |      3.268e+10     |          180781         |\n",
    "\n",
    "\n",
    "\n",
    "### K-Fold Cross Validation\n",
    "\n",
    "Cross Validation 5 divisions\n",
    "\n",
    "|  Mean Squared Error   | Root Mean Squared Error |\n",
    "|:---------------------:|:-----------------------:|\n",
    "| (average/5) 3.098e+10 |   (average/5) 176031    |\n",
    "|      3.105e+10        |          176234         |\n",
    "|      3.067e+10        |          175141         |\n",
    "|      3.152e+10        |          177559         |\n",
    "|      3.232e+10        |          179783         |\n",
    "|      2.935e+10        |          171321         |"
   ]
  },
  {
   "cell_type": "markdown",
   "metadata": {},
   "source": [
    "The MSE for Cross Validation provides a better estimation of the MSE for my model than the train/test values (although they are very similar). As the MSE is very large, I looked at the RMSE as well. The RMSE can be directly compared to the target variable, in this case price. This means that the standard deviation of my model errors is approximately $176K. This sounds pretty bad, but the R^2 of 0.614 indicates that the model only explains 61\\% of the price variable. "
   ]
  },
  {
   "cell_type": "code",
   "execution_count": 3,
   "metadata": {},
   "outputs": [],
   "source": [
    "import numpy as np"
   ]
  },
  {
   "cell_type": "code",
   "execution_count": 37,
   "metadata": {},
   "outputs": [
    {
     "data": {
      "text/plain": [
       "2.302585092994046"
      ]
     },
     "execution_count": 37,
     "metadata": {},
     "output_type": "execute_result"
    }
   ],
   "source": [
    "np.log(10)"
   ]
  },
  {
   "cell_type": "code",
   "execution_count": 33,
   "metadata": {},
   "outputs": [],
   "source": [
    "home_size = 4000\n",
    "\n",
    "dist_from_Bellvue = []\n",
    "log_dist_from_Bellvue = []\n",
    "\n",
    "dist = np.linspace(0.1,100,500)\n",
    "\n",
    "for dist_from in dist:\n",
    "    price1 = (208.52*home_size) - (18800*dist_from) + 304100\n",
    "    price2 = (202.7969*home_size) - (196800*np.log(dist_from)) + 550300\n",
    "    dist_from_Bellvue.append(price1)\n",
    "    log_dist_from_Bellvue.append(price2)"
   ]
  },
  {
   "cell_type": "code",
   "execution_count": 30,
   "metadata": {},
   "outputs": [],
   "source": [
    "#Visualizations\n",
    "import matplotlib.pyplot as plt\n",
    "%matplotlib inline\n",
    "import seaborn as sns\n",
    "sns.set_style('whitegrid')\n",
    "#contexts available: poster, paper, talk, notebook\n",
    "sns.set_context('paper')"
   ]
  },
  {
   "cell_type": "code",
   "execution_count": 34,
   "metadata": {},
   "outputs": [
    {
     "data": {
      "text/plain": [
       "<matplotlib.collections.PathCollection at 0x1a217209b0>"
      ]
     },
     "execution_count": 34,
     "metadata": {},
     "output_type": "execute_result"
    },
    {
     "data": {
      "image/png": "[encoded data removed]",
      "text/plain": [
       "<Figure size 432x288 with 1 Axes>"
      ]
     },
     "metadata": {
      "needs_background": "light"
     },
     "output_type": "display_data"
    }
   ],
   "source": [
    "plt.scatter(dist, dist_from_Bellvue)"
   ]
  },
  {
   "cell_type": "code",
   "execution_count": 35,
   "metadata": {},
   "outputs": [
    {
     "data": {
      "text/plain": [
       "<matplotlib.collections.PathCollection at 0x1a217e3160>"
      ]
     },
     "execution_count": 35,
     "metadata": {},
     "output_type": "execute_result"
    },
    {
     "data": {
      "image/png": "[encoded data removed]",
      "text/plain": [
       "<Figure size 432x288 with 1 Axes>"
      ]
     },
     "metadata": {
      "needs_background": "light"
     },
     "output_type": "display_data"
    }
   ],
   "source": [
    "plt.scatter(dist, log_dist_from_Bellvue)"
   ]
  },
  {
   "cell_type": "code",
   "execution_count": null,
   "metadata": {},
   "outputs": [],
   "source": []
  },
  {
   "cell_type": "markdown",
   "metadata": {},
   "source": [
    " \n",
    "\n",
    "# Outline\n",
    "* [Learning Stuff Section](#Learning-Stuff)\n",
    "\n",
    "# Notebook\n",
    "* Needs to be clean and organized\n",
    "    * markdowns\n",
    "    * introduction\n",
    "        * outline\n",
    "            * table of contents if possible\n",
    "    * clear comments\n",
    "    \n",
    "    \n",
    "* In order you should have\n",
    "    * introduction\n",
    "    * obtain section\n",
    "    * scrubbing\n",
    "        * handling null values\n",
    "        * handling placeholders\n",
    "        * handling outliers\n",
    "        * etc\n",
    "    * eda section\n",
    "        * questions clearly stated\n",
    "            * question\n",
    "            * investigation + eda\n",
    "            * conclusions + insights + recommendation\n",
    "        * eda summary\n",
    "    * modeling\n",
    "        * model\n",
    "        * iterate by using those results to make a new model\n",
    "        * repeat \n",
    "        * final model - **do not have multicollinearity**\n",
    "            * **DON'T**\n",
    "                * have multicollinearity\n",
    "                * pvalues > 0.05\n",
    "                * P(F) > 0.05\n",
    "            * your price equation written out \n",
    "                * $price = 23\\text{sqft_living} + \\dots$\n",
    "                * writing a latex equation\n",
    "                \n",
    "                $$p = \\beta_1 f_1 + \\beta_2 f_2 + \\dots$$\n",
    "                \n",
    "                $$p = 1232 sqftliving + 3232 grade + \\dots$$\n",
    "                \n",
    "            * final model sm.OLS.summary()\n",
    "            * model validation\n",
    "                * train test split\n",
    "                * cross validation in sklearn using\n",
    "                * show the scores and interpret them\n",
    "    * recommendations\n",
    "    * conclusion\n",
    "    * further work\n",
    "\n",
    "\n",
    "\n",
    "# Slideshow\n",
    "* 6-8/10 slides\n",
    "* not too text heavy\n",
    "* good visual aids\n",
    "* model summary for features\n",
    "    * insights\n",
    "* recommendations\n",
    "* further investigation\n",
    "* thank you slide\n",
    "\n",
    "\n",
    "\n",
    "# README.md\n",
    "Either\n",
    "    * convert notebook\n",
    "or\n",
    "    * intro\n",
    "    * outline\n",
    "    * notebooks used\n",
    "    * conclusion\n",
    "        * final model equation\n",
    "\n",
    "\n",
    "\n",
    "# Video\n",
    "* present your project\n",
    "* upload to youtube, google drive or other cloud service\n",
    "\n",
    "\n",
    "\n",
    "# Blog\n",
    "* 800 words\n",
    "* add some visuals\n",
    "* have fun with it\n",
    "\n"
   ]
  },
  {
   "cell_type": "code",
   "execution_count": null,
   "metadata": {},
   "outputs": [],
   "source": []
  },
  {
   "cell_type": "code",
   "execution_count": null,
   "metadata": {},
   "outputs": [],
   "source": []
  }
 ],
 "metadata": {
  "kernelspec": {
   "display_name": "Python 3",
   "language": "python",
   "name": "python3"
  },
  "language_info": {
   "codemirror_mode": {
    "name": "ipython",
    "version": 3
   },
   "file_extension": ".py",
   "mimetype": "text/x-python",
   "name": "python",
   "nbconvert_exporter": "python",
   "pygments_lexer": "ipython3",
   "version": "3.6.6"
  }
 },
 "nbformat": 4,
 "nbformat_minor": 2
}
